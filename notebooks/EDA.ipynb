
{
 "cells": [
  {
   "cell_type": "markdown",
   "metadata": {},
   "source": ["# EDA VisionOCR\n", "Exploração dos dados OCR e textos extraídos"]
  }
 ],
 "metadata": {},
 "nbformat": 4,
 "nbformat_minor": 5
}
